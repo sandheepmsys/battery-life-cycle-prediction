{
 "cells": [
  {
   "cell_type": "markdown",
   "metadata": {},
   "source": [
    "# Battery Management System"
   ]
  },
  {
   "cell_type": "markdown",
   "metadata": {},
   "source": [
    "A  Li-ion batteries (#5) was run through 3 different operational profiles (charge, discharge and impedance) at room temperature. Charging was carried out in a constant current (CC) mode at 1.5A until the battery voltage reached 4.2V and then continued in a constant voltage (CV) mode until the charge current dropped to 20mA. Discharge was carried out at a constant current (CC) level of 2A until the battery voltage fell to  2.2V. Impedance measurement was carried out through an electrochemical impedance spectroscopy (EIS) frequency sweep from 0.1Hz to 5kHz. Repeated charge and discharge cycles result in accelerated aging of the batteries while impedance measurements provide insight into the internal battery parameters that change as aging progresses. The experiments were stopped when the batteries reached end-of-life (EOL) criteria, which was a 30% fade in rated capacity (from 2Ahr to 1.4Ahr). This dataset can be used for the prediction of both remaining charge (for a given discharge cycle) and remaining useful life (RUL).\n"
   ]
  },
  {
   "cell_type": "markdown",
   "metadata": {},
   "source": [
    "# Importing the libraries"
   ]
  },
  {
   "cell_type": "code",
   "execution_count": 1,
   "metadata": {},
   "outputs": [],
   "source": [
    "#import necessary libraries\n",
    "import scipy.io\n",
    "import pandas as pd\n",
    "import numpy as np\n",
    "import datetime\n",
    "import matplotlib.pyplot as plt\n",
    "import seaborn as sns\n",
    "import warnings\n",
    "warnings.filterwarnings(\"ignore\")"
   ]
  },
  {
   "cell_type": "markdown",
   "metadata": {},
   "source": [
    "# Loading Matlab file"
   ]
  },
  {
   "cell_type": "code",
   "execution_count": 2,
   "metadata": {},
   "outputs": [],
   "source": [
    "#Loading the dataset\n",
    "m=scipy.io.loadmat(\"/home/thegreed/ai ml/dataset/extracted files/BatteryAgingARC_05_06_07_18/B0005.mat\")['B0005']"
   ]
  },
  {
   "cell_type": "code",
   "execution_count": 3,
   "metadata": {},
   "outputs": [],
   "source": [
    "#function for retrieving data from the .mat file \n",
    "def load(m):   \n",
    "    #retrieving columns from discharge,charging,impedance data \n",
    "    counter1=0 #for cycle count of discharge field\n",
    "    counter2=0 #for cycle count of charge field\n",
    "    counter3 = 0 #for cycle count of impedance field\n",
    "    dataset1 = [] #list to store records of all discharge field\n",
    "    dataset2=[] #list to store records of all charge field\n",
    "    dataset3=[] #list to store records of all impedance field\n",
    "    #looping through each record to identify discharge, charge and impedance type data\n",
    "    for i in range(len(m[0][0][0][0])): \n",
    "        if m[0][0][0][0][i][0][0]=='discharge':\n",
    "            t=m[0][0][0][0][i]\n",
    "            temp=t[1][0][0]\n",
    "            date_time = datetime.datetime(int(t[2][0][0]),int(t[2][0][1]),int(t[2][0][2]),int(t[2][0][3]),int(t[2][0][4])) + datetime.timedelta(seconds=int(t[2][0][5]))\n",
    "            data=t[3]\n",
    "            capacity = data[0][0][6][0][0]\n",
    "            #looping through each fields to retrieve value\n",
    "            for j in range(len(data[0][0][0][0])):\n",
    "                voltage_measured = data[0][0][0][0][j]\n",
    "                current_measured = data[0][0][1][0][j]\n",
    "                temperature_measured = data[0][0][2][0][j]\n",
    "                current_load = data[0][0][3][0][j]\n",
    "                voltage_load = data[0][0][4][0][j]\n",
    "                time = data[0][0][5][0][j]\n",
    "                #appending the retrieved value in list with cycle number\n",
    "                dataset1.append([counter1 + 1, temp, date_time,voltage_measured, current_measured,temperature_measured, current_load,\n",
    "                            voltage_load, time,capacity])\n",
    "            counter1 = counter1 + 1\n",
    "    #processing for charging column data\n",
    "        if m[0][0][0][0][i][0][0]=='charge':\n",
    "            t=m[0][0][0][0][i]\n",
    "            temp=t[1][0][0]\n",
    "            date_time = datetime.datetime(int(t[2][0][0]),int(t[2][0][1]),int(t[2][0][2]),int(t[2][0][3]),int(t[2][0][4])) + datetime.timedelta(seconds=int(t[2][0][5]))\n",
    "            data=t[3]\n",
    "            #looping through each fields to retrieve value\n",
    "            for j in range(len(data[0][0][0][0])):\n",
    "                voltage_measured = data[0][0][0][0][j]\n",
    "                current_measured = data[0][0][1][0][j]\n",
    "                temperature_measured = data[0][0][2][0][j]\n",
    "                current_load = data[0][0][3][0][j]\n",
    "                voltage_load = data[0][0][4][0][j]\n",
    "                time = data[0][0][5][0][j]\n",
    "                #appending the retrieved value in list with cycle number\n",
    "                dataset2.append([counter2 + 1, temp, date_time,voltage_measured, current_measured,temperature_measured, current_load,\n",
    "                            voltage_load, time])\n",
    "            counter2 = counter2 + 1\n",
    "    #processing for impedance column data\n",
    "        if m[0][0][0][0][i][0][0]=='impedance':\n",
    "            t=m[0][0][0][0][i]\n",
    "            temp=t[1][0][0]\n",
    "            date_time = datetime.datetime(int(t[2][0][0]),int(t[2][0][1]),int(t[2][0][2]),int(t[2][0][3]),int(t[2][0][4])) + datetime.timedelta(seconds=int(t[2][0][5]))\n",
    "            data=t[3]\n",
    "            Re = data[0][0][5][0][0]\n",
    "            Rct=data[0][0][6][0][0]\n",
    "            #looping through each fields to retrieve value\n",
    "            for j in range(len(data[0][0][0][0])):\n",
    "                sense_current = data[0][0][0][0][j]\n",
    "                battery_current = data[0][0][1][0][j]\n",
    "                current_ratio = data[0][0][2][0][j]\n",
    "                battery_impedance = data[0][0][3][j][0]\n",
    "                try:\n",
    "                    Rectified_impedance = data[0][0][4][j][0]\n",
    "                except:\n",
    "                    Rectified_impedance =0\n",
    "                #appending the retrieved value in list with cycle number\n",
    "                dataset3.append([counter3 + 1, temp, date_time,sense_current, battery_current,current_ratio, battery_impedance,\n",
    "                Rectified_impedance, Re, Rct])\n",
    "            counter3 = counter3 + 1\n",
    "    #returning list which contains discharge data,charge data and impedance data\n",
    "    return dataset1, dataset2, dataset3"
   ]
  },
  {
   "cell_type": "code",
   "execution_count": 4,
   "metadata": {},
   "outputs": [],
   "source": [
    "#getting loaded datasets for charging,discharging and impedance\n",
    "dataset1, dataset2, dataset3=load(m)"
   ]
  },
  {
   "cell_type": "code",
   "execution_count": 5,
   "metadata": {},
   "outputs": [],
   "source": [
    "#discharging field dataframe-converting the dataset1 list to dataframe\n",
    "df=pd.DataFrame(data=dataset1,\n",
    "                       columns=['cycle', 'ambient_temperature', 'datetime',\n",
    "                                 'voltage_measured',\n",
    "                                'current_measured', 'temperature_measured',\n",
    "                                'current_load', 'voltage_load', 'time','capacity'])"
   ]
  },
  {
   "cell_type": "code",
   "execution_count": 6,
   "metadata": {
    "scrolled": true
   },
   "outputs": [
    {
     "data": {
      "text/html": [
       "<div>\n",
       "<style scoped>\n",
       "    .dataframe tbody tr th:only-of-type {\n",
       "        vertical-align: middle;\n",
       "    }\n",
       "\n",
       "    .dataframe tbody tr th {\n",
       "        vertical-align: top;\n",
       "    }\n",
       "\n",
       "    .dataframe thead th {\n",
       "        text-align: right;\n",
       "    }\n",
       "</style>\n",
       "<table border=\"1\" class=\"dataframe\">\n",
       "  <thead>\n",
       "    <tr style=\"text-align: right;\">\n",
       "      <th></th>\n",
       "      <th>cycle</th>\n",
       "      <th>ambient_temperature</th>\n",
       "      <th>datetime</th>\n",
       "      <th>voltage_measured</th>\n",
       "      <th>current_measured</th>\n",
       "      <th>temperature_measured</th>\n",
       "      <th>current_load</th>\n",
       "      <th>voltage_load</th>\n",
       "      <th>time</th>\n",
       "      <th>capacity</th>\n",
       "    </tr>\n",
       "  </thead>\n",
       "  <tbody>\n",
       "    <tr>\n",
       "      <th>0</th>\n",
       "      <td>1</td>\n",
       "      <td>24</td>\n",
       "      <td>2008-04-02 15:25:41</td>\n",
       "      <td>4.191492</td>\n",
       "      <td>-0.004902</td>\n",
       "      <td>24.330034</td>\n",
       "      <td>-0.0006</td>\n",
       "      <td>0.000</td>\n",
       "      <td>0.000</td>\n",
       "      <td>1.856487</td>\n",
       "    </tr>\n",
       "    <tr>\n",
       "      <th>1</th>\n",
       "      <td>1</td>\n",
       "      <td>24</td>\n",
       "      <td>2008-04-02 15:25:41</td>\n",
       "      <td>4.190749</td>\n",
       "      <td>-0.001478</td>\n",
       "      <td>24.325993</td>\n",
       "      <td>-0.0006</td>\n",
       "      <td>4.206</td>\n",
       "      <td>16.781</td>\n",
       "      <td>1.856487</td>\n",
       "    </tr>\n",
       "    <tr>\n",
       "      <th>2</th>\n",
       "      <td>1</td>\n",
       "      <td>24</td>\n",
       "      <td>2008-04-02 15:25:41</td>\n",
       "      <td>3.974871</td>\n",
       "      <td>-2.012528</td>\n",
       "      <td>24.389085</td>\n",
       "      <td>-1.9982</td>\n",
       "      <td>3.062</td>\n",
       "      <td>35.703</td>\n",
       "      <td>1.856487</td>\n",
       "    </tr>\n",
       "    <tr>\n",
       "      <th>3</th>\n",
       "      <td>1</td>\n",
       "      <td>24</td>\n",
       "      <td>2008-04-02 15:25:41</td>\n",
       "      <td>3.951717</td>\n",
       "      <td>-2.013979</td>\n",
       "      <td>24.544752</td>\n",
       "      <td>-1.9982</td>\n",
       "      <td>3.030</td>\n",
       "      <td>53.781</td>\n",
       "      <td>1.856487</td>\n",
       "    </tr>\n",
       "    <tr>\n",
       "      <th>4</th>\n",
       "      <td>1</td>\n",
       "      <td>24</td>\n",
       "      <td>2008-04-02 15:25:41</td>\n",
       "      <td>3.934352</td>\n",
       "      <td>-2.011144</td>\n",
       "      <td>24.731385</td>\n",
       "      <td>-1.9982</td>\n",
       "      <td>3.011</td>\n",
       "      <td>71.922</td>\n",
       "      <td>1.856487</td>\n",
       "    </tr>\n",
       "  </tbody>\n",
       "</table>\n",
       "</div>"
      ],
      "text/plain": [
       "   cycle  ambient_temperature            datetime  voltage_measured  \\\n",
       "0      1                   24 2008-04-02 15:25:41          4.191492   \n",
       "1      1                   24 2008-04-02 15:25:41          4.190749   \n",
       "2      1                   24 2008-04-02 15:25:41          3.974871   \n",
       "3      1                   24 2008-04-02 15:25:41          3.951717   \n",
       "4      1                   24 2008-04-02 15:25:41          3.934352   \n",
       "\n",
       "   current_measured  temperature_measured  current_load  voltage_load    time  \\\n",
       "0         -0.004902             24.330034       -0.0006         0.000   0.000   \n",
       "1         -0.001478             24.325993       -0.0006         4.206  16.781   \n",
       "2         -2.012528             24.389085       -1.9982         3.062  35.703   \n",
       "3         -2.013979             24.544752       -1.9982         3.030  53.781   \n",
       "4         -2.011144             24.731385       -1.9982         3.011  71.922   \n",
       "\n",
       "   capacity  \n",
       "0  1.856487  \n",
       "1  1.856487  \n",
       "2  1.856487  \n",
       "3  1.856487  \n",
       "4  1.856487  "
      ]
     },
     "execution_count": 6,
     "metadata": {},
     "output_type": "execute_result"
    }
   ],
   "source": [
    "#checking the head of the data frame\n",
    "df.head()"
   ]
  },
  {
   "cell_type": "code",
   "execution_count": 7,
   "metadata": {},
   "outputs": [],
   "source": [
    "#charging field dataframe-converting the dataset2 list to dataframe\n",
    "df2=pd.DataFrame(data=dataset2,\n",
    "                       columns=['cycle', 'ambient_temperature', 'datetime',\n",
    "                                 'voltage_measured',\n",
    "                                'current_measured', 'temperature_measured',\n",
    "                                'current_load', 'voltage_load', 'time'])"
   ]
  },
  {
   "cell_type": "code",
   "execution_count": 8,
   "metadata": {},
   "outputs": [
    {
     "data": {
      "text/html": [
       "<div>\n",
       "<style scoped>\n",
       "    .dataframe tbody tr th:only-of-type {\n",
       "        vertical-align: middle;\n",
       "    }\n",
       "\n",
       "    .dataframe tbody tr th {\n",
       "        vertical-align: top;\n",
       "    }\n",
       "\n",
       "    .dataframe thead th {\n",
       "        text-align: right;\n",
       "    }\n",
       "</style>\n",
       "<table border=\"1\" class=\"dataframe\">\n",
       "  <thead>\n",
       "    <tr style=\"text-align: right;\">\n",
       "      <th></th>\n",
       "      <th>cycle</th>\n",
       "      <th>ambient_temperature</th>\n",
       "      <th>datetime</th>\n",
       "      <th>voltage_measured</th>\n",
       "      <th>current_measured</th>\n",
       "      <th>temperature_measured</th>\n",
       "      <th>current_load</th>\n",
       "      <th>voltage_load</th>\n",
       "      <th>time</th>\n",
       "    </tr>\n",
       "  </thead>\n",
       "  <tbody>\n",
       "    <tr>\n",
       "      <th>0</th>\n",
       "      <td>1</td>\n",
       "      <td>24</td>\n",
       "      <td>2008-04-02 13:08:17</td>\n",
       "      <td>3.873017</td>\n",
       "      <td>-0.001201</td>\n",
       "      <td>24.655358</td>\n",
       "      <td>0.000</td>\n",
       "      <td>0.003</td>\n",
       "      <td>0.000</td>\n",
       "    </tr>\n",
       "    <tr>\n",
       "      <th>1</th>\n",
       "      <td>1</td>\n",
       "      <td>24</td>\n",
       "      <td>2008-04-02 13:08:17</td>\n",
       "      <td>3.479394</td>\n",
       "      <td>-4.030268</td>\n",
       "      <td>24.666480</td>\n",
       "      <td>-4.036</td>\n",
       "      <td>1.570</td>\n",
       "      <td>2.532</td>\n",
       "    </tr>\n",
       "    <tr>\n",
       "      <th>2</th>\n",
       "      <td>1</td>\n",
       "      <td>24</td>\n",
       "      <td>2008-04-02 13:08:17</td>\n",
       "      <td>4.000588</td>\n",
       "      <td>1.512731</td>\n",
       "      <td>24.675394</td>\n",
       "      <td>1.500</td>\n",
       "      <td>4.726</td>\n",
       "      <td>5.500</td>\n",
       "    </tr>\n",
       "    <tr>\n",
       "      <th>3</th>\n",
       "      <td>1</td>\n",
       "      <td>24</td>\n",
       "      <td>2008-04-02 13:08:17</td>\n",
       "      <td>4.012395</td>\n",
       "      <td>1.509063</td>\n",
       "      <td>24.693865</td>\n",
       "      <td>1.500</td>\n",
       "      <td>4.742</td>\n",
       "      <td>8.344</td>\n",
       "    </tr>\n",
       "    <tr>\n",
       "      <th>4</th>\n",
       "      <td>1</td>\n",
       "      <td>24</td>\n",
       "      <td>2008-04-02 13:08:17</td>\n",
       "      <td>4.019708</td>\n",
       "      <td>1.511318</td>\n",
       "      <td>24.705069</td>\n",
       "      <td>1.500</td>\n",
       "      <td>4.753</td>\n",
       "      <td>11.125</td>\n",
       "    </tr>\n",
       "  </tbody>\n",
       "</table>\n",
       "</div>"
      ],
      "text/plain": [
       "   cycle  ambient_temperature            datetime  voltage_measured  \\\n",
       "0      1                   24 2008-04-02 13:08:17          3.873017   \n",
       "1      1                   24 2008-04-02 13:08:17          3.479394   \n",
       "2      1                   24 2008-04-02 13:08:17          4.000588   \n",
       "3      1                   24 2008-04-02 13:08:17          4.012395   \n",
       "4      1                   24 2008-04-02 13:08:17          4.019708   \n",
       "\n",
       "   current_measured  temperature_measured  current_load  voltage_load    time  \n",
       "0         -0.001201             24.655358         0.000         0.003   0.000  \n",
       "1         -4.030268             24.666480        -4.036         1.570   2.532  \n",
       "2          1.512731             24.675394         1.500         4.726   5.500  \n",
       "3          1.509063             24.693865         1.500         4.742   8.344  \n",
       "4          1.511318             24.705069         1.500         4.753  11.125  "
      ]
     },
     "execution_count": 8,
     "metadata": {},
     "output_type": "execute_result"
    }
   ],
   "source": [
    "#checking the head of the dataframe\n",
    "df2.head()"
   ]
  },
  {
   "cell_type": "markdown",
   "metadata": {},
   "source": [
    "# Visualisation"
   ]
  },
  {
   "cell_type": "code",
   "execution_count": 9,
   "metadata": {},
   "outputs": [
    {
     "data": {
      "text/plain": [
       "Text(0.5, 1.0, 'cycle vs capacity')"
      ]
     },
     "execution_count": 9,
     "metadata": {},
     "output_type": "execute_result"
    },
    {
     "data": {
      "image/png": "[encoded data removed]",
      "text/plain": [
       "<Figure size 720x432 with 1 Axes>"
      ]
     },
     "metadata": {
      "needs_background": "light"
     },
     "output_type": "display_data"
    }
   ],
   "source": [
    "#plotting to see how capacity varies with cycle\n",
    "plt.figure(figsize=(10, 6))\n",
    "plt.plot(df['cycle'],df['capacity'],color=\"blue\",label=\"capacity\")\n",
    "plt.xlabel(\"cycle\")\n",
    "plt.ylabel(\"capacity\")\n",
    "plt.legend()\n",
    "plt.title(\"cycle vs capacity\")"
   ]
  },
  {
   "cell_type": "markdown",
   "metadata": {},
   "source": [
    "<b>From  the above graph it is seen that the capacity degrades when the cycle increases.  </b>"
   ]
  },
  {
   "cell_type": "code",
   "execution_count": 10,
   "metadata": {},
   "outputs": [
    {
     "data": {
      "text/plain": [
       "Text(0.5, 1.0, 'cycle vs capacity with Threshold')"
      ]
     },
     "execution_count": 10,
     "metadata": {},
     "output_type": "execute_result"
    },
    {
     "data": {
      "image/png": "[encoded data removed]",
      "text/plain": [
       "<Figure size 720x432 with 1 Axes>"
      ]
     },
     "metadata": {
      "needs_background": "light"
     },
     "output_type": "display_data"
    }
   ],
   "source": [
    "#plotting to see how capacity decreases with cycle with threshold \n",
    "plt.figure(figsize=(10, 6))\n",
    "plt.plot(df['cycle'],df['capacity'],color=\"blue\",label=\"capacity\")\n",
    "plt.plot([0.,max(df[\"cycle\"])], [1.4, 1.4],color=\"yellow\",label=\"threshold\")\n",
    "plt.xlabel(\"cycle\")\n",
    "plt.legend()\n",
    "plt.ylabel(\"capacity\")\n",
    "plt.title(\"cycle vs capacity with Threshold\")"
   ]
  },
  {
   "cell_type": "markdown",
   "metadata": {},
   "source": [
    "<b>It is given that the battery will reach the end of life when the capacity reaches the 1.4Ahr. From the above graph it is seen that the given battery have reached the end of life threshold at almost 125th cycle   </b>"
   ]
  },
  {
   "cell_type": "markdown",
   "metadata": {},
   "source": [
    "<B>DISCHARGE DATA VISUALISATION</B>"
   ]
  },
  {
   "cell_type": "code",
   "execution_count": 11,
   "metadata": {},
   "outputs": [
    {
     "data": {
      "text/plain": [
       "Text(0.5, 1.0, 'Voltage measured vs Discharge time')"
      ]
     },
     "execution_count": 11,
     "metadata": {},
     "output_type": "execute_result"
    },
    {
     "data": {
      "image/png": "[encoded data removed]",
      "text/plain": [
       "<Figure size 432x288 with 1 Axes>"
      ]
     },
     "metadata": {
      "needs_background": "light"
     },
     "output_type": "display_data"
    }
   ],
   "source": [
    "#Visualisation of variation in voltage measured vs Discharge time\n",
    "sns.lineplot(data=df,x=\"time\",y=\"voltage_measured\",hue=\"cycle\")\n",
    "plt.title(\"Voltage measured vs Discharge time\")"
   ]
  },
  {
   "cell_type": "markdown",
   "metadata": {},
   "source": [
    "<b>From the above graph it is seen that the voltage drops almost to 2.7V after certain amount of time and  Moreover it is seen that the voltage of aged cell drops earlier than that of fresh cell.</b>"
   ]
  },
  {
   "cell_type": "code",
   "execution_count": 12,
   "metadata": {},
   "outputs": [
    {
     "data": {
      "text/plain": [
       "Text(0.5, 1.0, 'Temperature measured vs Discharge time')"
      ]
     },
     "execution_count": 12,
     "metadata": {},
     "output_type": "execute_result"
    },
    {
     "data": {
      "image/png": "[encoded data removed]",
      "text/plain": [
       "<Figure size 432x288 with 1 Axes>"
      ]
     },
     "metadata": {
      "needs_background": "light"
     },
     "output_type": "display_data"
    }
   ],
   "source": [
    "#Visualisation to see how Discharge temperature varies with time\n",
    "sns.lineplot(data=df,x=\"time\",y=\"temperature_measured\",hue=\"cycle\")\n",
    "plt.title(\"Temperature measured vs Discharge time\")"
   ]
  },
  {
   "cell_type": "markdown",
   "metadata": {},
   "source": [
    "<b>From the above visualisation it is seen that the temperature seems to increase with time. Also it is noticed that the aged cell reaches the maximum temperature earlier than the fresh cell. </b>"
   ]
  },
  {
   "cell_type": "code",
   "execution_count": null,
   "metadata": {},
   "outputs": [],
   "source": [
    "#Visualisation to see how Discharge current measured varies with time\n",
    "plt.title(\"Current measured vs Discharge time\")\n",
    "sns.lineplot(data=df,x=\"time\",y=\"current_measured\",hue=\"cycle\")"
   ]
  },
  {
   "cell_type": "markdown",
   "metadata": {},
   "source": [
    "<b>The above figure shows how the current measured varies with time. It is seen that the current of aged cells  drops and rises to 0 earlier than the new cells  </b>"
   ]
  },
  {
   "cell_type": "markdown",
   "metadata": {},
   "source": [
    "<B>CHARGE DATA VISUALISATION</B>"
   ]
  },
  {
   "cell_type": "code",
   "execution_count": null,
   "metadata": {},
   "outputs": [],
   "source": [
    "#Time vs charge current measured-cc mode at 1.5A and dropped to 20mA(0.02A)\n",
    "sns.lineplot(data=df2,x='time',y='current_measured',hue=\"cycle\")\n",
    "plt.title(\"Current Measured vs charge time\")"
   ]
  },
  {
   "cell_type": "markdown",
   "metadata": {},
   "source": [
    "<b>From the above graph it is seen that the current was at 1.5A for some time eventually falls after certain point of time. Also It is seen that the current of aged cell begins to drop from the constant current earlier than the fresh cell. </b>"
   ]
  },
  {
   "cell_type": "code",
   "execution_count": null,
   "metadata": {},
   "outputs": [],
   "source": [
    "#Visualisation to see how temperature measured varies with charging time\n",
    "sns.lineplot(data=df2,x=\"time\",y=\"temperature_measured\",hue=\"cycle\")\n",
    "plt.title(\"Temperature measured vs charge time\")"
   ]
  },
  {
   "cell_type": "markdown",
   "metadata": {},
   "source": [
    "<b>The above graph shows the temperature measured at each time.It is seen that the aged cell reaches the maximum temperature earlier than the fresh cell. Generally,  temperature affects both performance and life cycle of a battery as it speeds up the chemical reactions inside the battery. </b>"
   ]
  },
  {
   "cell_type": "code",
   "execution_count": null,
   "metadata": {},
   "outputs": [],
   "source": [
    "#Visualisation to see how charging voltage measured varies with time\n",
    "sns.lineplot(data=df2,x='time',y='voltage_measured',hue=\"cycle\")\n",
    "plt.ylim(3,4.5)\n",
    "plt.title(\"Voltage measured vs charge time\")"
   ]
  },
  {
   "cell_type": "markdown",
   "metadata": {},
   "source": [
    "<b>The above figure shows how the voltage measured varies with time.It is seen that the voltage of a aged battery rises faster than a new one in the Constant current charging phase  </b>"
   ]
  },
  {
   "cell_type": "code",
   "execution_count": null,
   "metadata": {},
   "outputs": [],
   "source": [
    "#Grouping by cycle and displaying maximum of each field in discharge data with respect to the cycle\n",
    "gdf=df.groupby(\"cycle\").max().reset_index()\n",
    "gdf.head()"
   ]
  },
  {
   "cell_type": "code",
   "execution_count": null,
   "metadata": {},
   "outputs": [],
   "source": [
    "#checking distribution of capacity \n",
    "sns.boxplot(data=gdf, x=\"capacity\",color=\"purple\")\n",
    "plt.title(\"Capacity\")"
   ]
  },
  {
   "cell_type": "markdown",
   "metadata": {},
   "source": [
    "<b>From the above plot, it is seen that the capacity ranges from almost 1.4 to 1.8. And also it is seen that there is no outliers in the capacity field </b>"
   ]
  },
  {
   "cell_type": "markdown",
   "metadata": {},
   "source": [
    "<b>Visualising how columns vary on each cycle: Discharge data</b>"
   ]
  },
  {
   "cell_type": "code",
   "execution_count": null,
   "metadata": {},
   "outputs": [],
   "source": [
    "#Visualisation of the maximum time recorded in each cycle\n",
    "plt.figure(figsize=(10,5))\n",
    "plt.subplot(1,2,1)\n",
    "plt.plot(gdf['cycle'],gdf['time'],color=\"purple\")\n",
    "plt.xlabel('cycle')\n",
    "plt.ylabel('Maximum time')\n",
    "plt.title('Cycle vs Discharge Maximum time')\n",
    "plt.subplot(1,2,2)\n",
    "plt.plot(gdf['cycle'],gdf['capacity'],color=\"purple\")\n",
    "plt.xlabel('cycle')\n",
    "plt.ylabel('capacity')\n",
    "plt.title('Cycle vs capacity')\n"
   ]
  },
  {
   "cell_type": "markdown",
   "metadata": {},
   "source": [
    "<b>From the above graph it is seen that the maximum time for each Discharge cycle decreases slowly as the cycle increases. Also it reflects quite similar pattern in way which capacity is reduced at each cycle. Hence it might end up being one of the feature for estimating the capacity </b>"
   ]
  },
  {
   "cell_type": "code",
   "execution_count": null,
   "metadata": {},
   "outputs": [],
   "source": [
    "#Visualisation of the maximum temperature recorded in discharge each cycle\n",
    "plt.figure(figsize=(15,5))\n",
    "plt.subplot(1,2,1)\n",
    "plt.plot(gdf['cycle'],gdf['temperature_measured'],color=\"purple\")\n",
    "plt.xlabel('cycle')\n",
    "plt.ylabel('Temperature_measured')\n",
    "plt.title('Cycle vs Temperature measured')\n",
    "plt.subplot(1,2,2)\n",
    "#Visualisation of the maximum current recorded in each discharge cycle\n",
    "plt.plot(gdf['cycle'],gdf['current_measured'],color=\"purple\")\n",
    "plt.xlabel('cycle')\n",
    "plt.ylabel('current measured')\n",
    "plt.title('Cycle vs Current measured')"
   ]
  },
  {
   "cell_type": "markdown",
   "metadata": {},
   "source": [
    "<b>The above figure shows the maximum temperature and current recorded in each cycle.From the above figure it is seen that the temperature measured kind of lowers at the initial cycles and rises varies in different ways as the cycle proceeds, whereas the the current measured fluctuates a lot as the cycle proceeds. </b>"
   ]
  },
  {
   "cell_type": "code",
   "execution_count": null,
   "metadata": {},
   "outputs": [],
   "source": [
    "#Grouping by cycle and displaying maximum of each field in charge data with respect to the cycle\n",
    "gdf2=df2.groupby(\"cycle\").max().reset_index()"
   ]
  },
  {
   "cell_type": "code",
   "execution_count": null,
   "metadata": {
    "scrolled": false
   },
   "outputs": [],
   "source": [
    "gdf2.head()"
   ]
  },
  {
   "cell_type": "markdown",
   "metadata": {},
   "source": [
    "<b>Visualising how columns vary on each cycle: Charge data</b>"
   ]
  },
  {
   "cell_type": "code",
   "execution_count": null,
   "metadata": {},
   "outputs": [],
   "source": [
    "#Visualisation of the maximum temperature recorded in each charge cycle\n",
    "plt.plot(gdf2['cycle'],gdf2['temperature_measured'],color=\"purple\")\n",
    "plt.xlabel('cycle')\n",
    "plt.ylabel('Temperature_measured')\n",
    "plt.title('Cycle vs Temperature measured')"
   ]
  },
  {
   "cell_type": "markdown",
   "metadata": {},
   "source": [
    "<b>The above figure shows how the temperature measured varies at the each charging cycle. It is seen that the temperature measured neither continuously increase nor decrease continuously but there is a major drop in the temperature measured at the mid and  at the end of the cycle</b>"
   ]
  },
  {
   "cell_type": "code",
   "execution_count": null,
   "metadata": {},
   "outputs": [],
   "source": [
    "#Visualisation of the maximum time recorded in each charge cycle\n",
    "plt.figure(figsize=(15,5))\n",
    "plt.subplot(1,2,1)\n",
    "plt.plot(gdf2['cycle'],gdf2['time'],color=\"purple\")\n",
    "plt.xlabel('cycle')\n",
    "plt.ylabel('Maximum time')\n",
    "plt.title('Cycle vs Maximum time')\n",
    "#Visualisation of the maximum current measured in each cycle\n",
    "plt.subplot(1,2,2)\n",
    "plt.plot(gdf2['cycle'],gdf2['current_measured'],color=\"purple\")\n",
    "plt.xlabel('cycle')\n",
    "plt.ylabel('Maximum time')\n",
    "plt.title('Cycle vs Current Measured')"
   ]
  },
  {
   "cell_type": "markdown",
   "metadata": {},
   "source": [
    "<b>The above figure shows the maximum charging time and current measured varies on each cycle. Although there is no much difference in both in initial cycles, it lowers at the last cycle. It is almost seen that it doesn'differ much at various cycle. Hence this might not be a favorable feature for predicting capacity which degrades as cycle increases</b>"
   ]
  },
  {
   "cell_type": "markdown",
   "metadata": {},
   "source": [
    "<b>Creating new dataframe with necessary features from charging and discharging cycle.</b>"
   ]
  },
  {
   "cell_type": "code",
   "execution_count": null,
   "metadata": {},
   "outputs": [],
   "source": [
    "#retrieving maximum temperature measured,cycle and time from the discharge cycle into a new dataframe\n",
    "new_df=gdf[[\"cycle\"]] \n",
    "new_df[\"dis_max_temp\"]=gdf[\"temperature_measured\"]\n",
    "new_df[\"dis_max_time\"]=gdf[\"time\"]"
   ]
  },
  {
   "cell_type": "code",
   "execution_count": null,
   "metadata": {},
   "outputs": [],
   "source": [
    "#retrieving maximum temperature and time measured from the charge cycle and adding to new dataframe- since cycle is 170 retrieving last 168 cycles\n",
    "ch_mx_time=gdf2[2:].reset_index()[\"time\"]\n",
    "ch_mx_temp=gdf2[2:].reset_index()[\"temperature_measured\"]\n",
    "new_df[\"ch_max_temp\"]=ch_mx_temp\n",
    "new_df[\"ch_max_time\"]=ch_mx_time\n",
    "#since the charging's maximum threshold voltage is 4.2, retrieving the time taken in that stage\n",
    "new_df[\"ch_max_vol_time\"]=df2[df2[\"voltage_measured\"]>4.2].groupby(\"cycle\").first()[2:].reset_index()[\"time\"]"
   ]
  },
  {
   "cell_type": "code",
   "execution_count": null,
   "metadata": {},
   "outputs": [],
   "source": [
    "#Since the battery voltage fell to 2.7V - retrieving time of the discharge's minimum threshold voltage \n",
    "dis_min_vol_t=df[df[\"voltage_measured\"]<2.7][\"time\"].reset_index().drop(\"index\",axis=1)\n",
    "#adding Discharge's minimum voltage time as a column in new dataframe\n",
    "new_df[\"dis_min_vol_time\"]=dis_min_vol_t"
   ]
  },
  {
   "cell_type": "code",
   "execution_count": null,
   "metadata": {},
   "outputs": [],
   "source": [
    "#Adding the discharge's constant current,cut off voltage, capacity fade, rated capacity and ambient temperature to the new dataframe\n",
    "#since all these feature have a constant value in all the data we dont consider this for prediction\n",
    "new_df[\"dis_current\"]=2\n",
    "new_df[\"cutoff_voltage\"]=2.7\n",
    "new_df[\"capacity_fade\"]=1.4\n",
    "new_df[\"rated_capacity\"]=2\n",
    "new_df[\"amb_temperature\"]=24\n",
    "new_df[\"capacity\"]=gdf[[\"capacity\"]] "
   ]
  },
  {
   "cell_type": "code",
   "execution_count": null,
   "metadata": {},
   "outputs": [],
   "source": [
    "#Overview of the new Dataframe with all the necessary features from charge and discharge cycles.\n",
    "df=new_df\n",
    "df"
   ]
  },
  {
   "cell_type": "code",
   "execution_count": null,
   "metadata": {},
   "outputs": [],
   "source": [
    "#Getting description about the data\n",
    "df.describe()"
   ]
  },
  {
   "cell_type": "code",
   "execution_count": null,
   "metadata": {},
   "outputs": [],
   "source": [
    "#Getting info about the different columns in dataframe\n",
    "df.info()"
   ]
  },
  {
   "cell_type": "code",
   "execution_count": null,
   "metadata": {},
   "outputs": [],
   "source": [
    "#Checking to see any null value exist\n",
    "df.isnull().sum()"
   ]
  },
  {
   "cell_type": "markdown",
   "metadata": {},
   "source": [
    "<b>Visualising Columns relationship with Capacity </b>"
   ]
  },
  {
   "cell_type": "code",
   "execution_count": null,
   "metadata": {},
   "outputs": [],
   "source": [
    "#Visualising to see the relationship between capacity and discharge minimum threshold voltage time\n",
    "\n",
    "plt.scatter(new_df[\"dis_min_vol_time\"],gdf['capacity'],color=\"purple\")\n",
    "plt.xlabel('Discharge minimum threshold voltage time')\n",
    "plt.ylabel('Capacity')\n",
    "plt.title('Discharge minimum threshold voltage time Vs capacity')"
   ]
  },
  {
   "cell_type": "markdown",
   "metadata": {},
   "source": [
    "<b>From above it is seen that there exist a linear relationship between the discharge minimum threshold voltage time and the capacity. Hence this will be one of the suitable feature for predicting the capacity</b>"
   ]
  },
  {
   "cell_type": "code",
   "execution_count": null,
   "metadata": {},
   "outputs": [],
   "source": [
    "plt.scatter(new_df[\"ch_max_vol_time\"],gdf['capacity'],color=\"purple\")\n",
    "plt.xlabel('Charge maximum threshold voltage time')\n",
    "plt.ylabel('Capacity')\n",
    "plt.title('Charge maximum threshold voltage time Vs capacity')"
   ]
  },
  {
   "cell_type": "markdown",
   "metadata": {},
   "source": [
    "<b>The above graph shows the relationship between the charge maximum threshold voltage time and the capacity. Except at the initial time it is seen that the charge minimum threshold voltage time too has a quite linear relationship with the capacity </b>"
   ]
  },
  {
   "cell_type": "code",
   "execution_count": null,
   "metadata": {},
   "outputs": [],
   "source": [
    "plt.scatter(new_df[\"dis_max_time\"],gdf['capacity'],color=\"purple\")\n",
    "plt.xlabel('Discharge maximum time')\n",
    "plt.ylabel('Capacity')\n",
    "plt.title('Discharge maximum time Vs capacity')"
   ]
  },
  {
   "cell_type": "markdown",
   "metadata": {},
   "source": [
    "<b>From the above graph it is seen that the discharge maximum time has a good relationship with the capacity. Hence this would be one of the suitable features to predict the capacity</b>"
   ]
  },
  {
   "cell_type": "code",
   "execution_count": null,
   "metadata": {},
   "outputs": [],
   "source": [
    "#Checking correlation \n",
    "df.corr()"
   ]
  },
  {
   "cell_type": "markdown",
   "metadata": {},
   "source": [
    "# Feature Selection"
   ]
  },
  {
   "cell_type": "code",
   "execution_count": null,
   "metadata": {
    "scrolled": false
   },
   "outputs": [],
   "source": [
    "#visualising correlation using heatmap\n",
    "plt.figure(figsize=(8,5))\n",
    "sns.heatmap(df.drop(['dis_current','cutoff_voltage',\"capacity_fade\",\"rated_capacity\",\"amb_temperature\"],axis=1).corr(),annot=True,fmt=\".2g\")"
   ]
  },
  {
   "cell_type": "markdown",
   "metadata": {},
   "source": [
    "<b>From the above visualisation of columns and  correlation, we choose the following features to predict the capacity. <ul>\n",
    "    <li> <b><u>Discharge Minimum threshold voltage Time</b></u>-From the visualisation plot of capacity vs Discharge minimum threshold voltage it is seen that there exist a good linear relationship between both. Also from the above correlation,It is seen that the discharge minimum voltage time is highly correlated with the capacity . Hence it forms a major feature for estimating the capacity. </li>\n",
    "    <li> <u><b>Charge maximum threshold volatage Time</b></u>- From the above correlation plot, it is seen that the Charge maximum threshold volatage is also highly correlated with the output feature (capacity).Also in visualisation with capacity it shows a quite good linear relationship with capacity. Hence it will be a perfect feature for the capacity prediction.</li>\n",
    "Although the other feature like discharge maximum temperature,cycle,discharge maximum time is highly correlated with the output  it is also highly correlated with the other independent input features like discharge minimum threshold voltage time and charge maximum threshold voltage time. since correlation within the independent features themselves is not much favorable,  it is not chosen as a feature to predict the capacity in this model. \n",
    "</ul></b>"
   ]
  },
  {
   "cell_type": "markdown",
   "metadata": {},
   "source": [
    "# Capacity prediction"
   ]
  },
  {
   "cell_type": "code",
   "execution_count": null,
   "metadata": {},
   "outputs": [],
   "source": [
    "#splitting data\n",
    "x=df[[\"ch_max_vol_time\",\"dis_min_vol_time\"]].values\n",
    "y=df[\"capacity\"].values\n",
    "#splitting into train data and test data\n",
    "from sklearn.model_selection import train_test_split\n",
    "xt,xs,yt,ys=train_test_split(x,y,test_size=0.2,random_state=1234)\n",
    "#scaling datasets\n",
    "from sklearn.preprocessing import StandardScaler,MinMaxScaler\n",
    "st=MinMaxScaler(feature_range=(0,1))\n",
    "xt=st.fit_transform(xt)\n",
    "xs=st.transform(xs)\n",
    "#list to store r2 score and rmse of different models for evaluation\n",
    "r2=[]\n",
    "rmse=[]"
   ]
  },
  {
   "cell_type": "markdown",
   "metadata": {},
   "source": [
    "<B>LINEAR REGRESSION MODEL</B>"
   ]
  },
  {
   "cell_type": "code",
   "execution_count": null,
   "metadata": {},
   "outputs": [],
   "source": [
    "#predicting capacity using linear regression\n",
    "from sklearn.linear_model import LinearRegression\n",
    "l=LinearRegression()\n",
    "l.fit(xt,yt)\n",
    "yp=l.predict(xs)"
   ]
  },
  {
   "cell_type": "code",
   "execution_count": null,
   "metadata": {},
   "outputs": [],
   "source": [
    "#Evaluation of the model-Getting r2 score of the model \n",
    "from sklearn.metrics import r2_score,mean_squared_error\n",
    "print(\"r2 score- Test data\",r2_score(ys,yp))\n",
    "r2.append(r2_score(ys,yp))\n",
    "print(\"r2 score- Train data\",l.score(xt,yt))\n",
    "print(\"Root mean square error\",np.sqrt(mean_squared_error(ys,yp)))\n",
    "rmse.append(np.sqrt(mean_squared_error(ys,yp)))\n",
    "#plotting expected vs predicted capacity\n",
    "plt.plot(list(y),label=\"actual capacity\",color=\"red\")\n",
    "plt.plot(list(l.predict(st.transform(x))),label=\"predicted capacity\",color=\"blue\")\n",
    "plt.xlabel(\"cycle\")\n",
    "plt.ylabel(\"capacity\")\n",
    "plt.title(\"Linear regression-Test data vs Predicted\")\n",
    "plt.legend()"
   ]
  },
  {
   "cell_type": "markdown",
   "metadata": {},
   "source": [
    "<b>SUPPORT VECTOR REGRESSION MODEL</b>"
   ]
  },
  {
   "cell_type": "code",
   "execution_count": null,
   "metadata": {},
   "outputs": [],
   "source": [
    "#predicting capacity using SVR\n",
    "from sklearn.svm import SVR\n",
    "s=SVR()\n",
    "s.fit(xt,yt)\n",
    "yp=s.predict(xs)"
   ]
  },
  {
   "cell_type": "code",
   "execution_count": null,
   "metadata": {},
   "outputs": [],
   "source": [
    "#Evaluation of the model-Getting r2 score of the model \n",
    "from sklearn.metrics import r2_score,mean_squared_error\n",
    "print(\"r2 score- Test data\",r2_score(ys,yp))\n",
    "print(\"r2 score- Train data\",s.score(xt,yt))\n",
    "r2.append(r2_score(ys,yp))\n",
    "print(\"Root mean square error\",np.sqrt(mean_squared_error(ys,yp)))\n",
    "rmse.append(np.sqrt(mean_squared_error(ys,yp)))\n",
    "#plotting expected vs predicted capacity\n",
    "plt.plot(list(y),label=\"actual capacity\",color=\"red\")\n",
    "plt.plot(list(s.predict(st.transform(x))),label=\"predicted capacity\",color=\"blue\")\n",
    "plt.xlabel(\"cycle\")\n",
    "plt.ylabel(\"capacity\")\n",
    "plt.title(\"SVR- Test data vs Predicted\")\n",
    "plt.legend()"
   ]
  },
  {
   "cell_type": "markdown",
   "metadata": {},
   "source": [
    "<B>RIDGE REGRESSION MODEL </B>"
   ]
  },
  {
   "cell_type": "code",
   "execution_count": null,
   "metadata": {},
   "outputs": [],
   "source": [
    "#predicting capacity using ridge regression\n",
    "from sklearn.linear_model import Ridge\n",
    "r = Ridge(alpha=1.0)\n",
    "r.fit(xt, yt)\n",
    "yp=r.predict(xs)"
   ]
  },
  {
   "cell_type": "code",
   "execution_count": null,
   "metadata": {},
   "outputs": [],
   "source": [
    "#Evaluation of the model-Getting r2 score of the model \n",
    "print(\"r2 score -Test data\",r2_score(ys,yp))\n",
    "print(\"r2 score -Train data\",r.score(xt,yt))\n",
    "print(\"Root mean square error\",np.sqrt(mean_squared_error(ys,yp)))\n",
    "r2.append(r2_score(ys,yp))\n",
    "rmse.append(np.sqrt(mean_squared_error(ys,yp)))\n",
    "#plotting expected vs predicted capacity\n",
    "plt.plot(list(y),label=\"actual capacity\",color=\"red\")\n",
    "plt.plot(list(r.predict(st.transform(x))),label=\"predicted capacity\",color=\"blue\")\n",
    "plt.xlabel(\"cycle\")\n",
    "plt.ylabel(\"capacity\")\n",
    "plt.title(\"Ridge regression- Test data vs Predicted\")\n",
    "plt.legend()"
   ]
  },
  {
   "cell_type": "markdown",
   "metadata": {},
   "source": [
    "<B>POLYNOMIAL REGRESSION MODEL</B>"
   ]
  },
  {
   "cell_type": "code",
   "execution_count": null,
   "metadata": {},
   "outputs": [],
   "source": [
    "#predicting capacity using Polynomial regression\n",
    "from sklearn.preprocessing import PolynomialFeatures\n",
    "pr = PolynomialFeatures(degree = 2)\n",
    "xp = pr.fit_transform(xt)\n",
    "lr = LinearRegression()\n",
    "lr.fit(xp, yt)\n",
    "yp=lr.predict(pr.transform(xs))\n",
    "yp1=lr.predict(pr.transform(xt))\n",
    "#Evaluation of the model-Getting r2 score of the model \n",
    "print('r2 score train data',r2_score(yt,yp1))\n",
    "print('r2 score test data',r2_score(ys,yp))\n",
    "print('Root mean square error',np.sqrt(mean_squared_error(ys,yp)))\n",
    "r2.append(r2_score(ys,yp))\n",
    "rmse.append(np.sqrt(mean_squared_error(ys,yp)))\n",
    "#plotting expected vs predicted capacity\n",
    "plt.plot(list(y),label=\"actual capacity\",color=\"red\")\n",
    "plt.plot(list(lr.predict(pr.transform(st.transform(x)))),label=\"predicted capacity\",color=\"blue\")\n",
    "plt.xlabel(\"cycle\")\n",
    "plt.ylabel(\"capacity\")\n",
    "plt.title(\"Polynomial regression- Test data vs Predicted\")\n",
    "plt.legend()"
   ]
  },
  {
   "cell_type": "markdown",
   "metadata": {},
   "source": [
    "# Model selection for capacity prediction"
   ]
  },
  {
   "cell_type": "code",
   "execution_count": null,
   "metadata": {},
   "outputs": [],
   "source": [
    "#visualised comparison of performance of models\n",
    "n=4\n",
    "ind = np.arange(n) \n",
    "width = 0.2\n",
    "\n",
    "plt.figure(figsize=(15,5))\n",
    "plt.title(\"Comparing performance of different models\")\n",
    "#plot for accuracy\n",
    "bar1 = plt.bar(ind, r2, width, color = 'b')\n",
    "for i, v in enumerate(r2):\n",
    "    plt.text(i-0.06,v+0.01, s=str(v)[:5], color='black', fontweight='bold')\n",
    "#plot for Recall\n",
    "bar2 = plt.bar(ind+width, rmse, width, color='r')\n",
    "for i, v in enumerate(rmse):\n",
    "    plt.text(i+0.12,v+0.01, s=str(v)[:6], color='black', fontweight='bold')\n",
    "\n",
    "plt.xticks(ind+width,[\"linear regression\",\"SVR\",\"Ridge\",\"Polynomial\"])\n",
    "plt.legend( (bar1, bar2 ), ('r2 score','RMSE') ,loc=1)\n",
    "plt.show()"
   ]
  },
  {
   "cell_type": "markdown",
   "metadata": {},
   "source": [
    "<b>From the above graph it is seen that the R2 score of the linear regression and polynomial regression is quite similar. Since the r2 score is similar we decide the best model based on the Root mean square error. Although there is not much big difference in the root mean square error of the linear regression and polynomial regression, polynomial regression comparatively provides less rmse than linear regression by few margin. Hence we choose the polynomial regression model to predict the capacity</b>"
   ]
  },
  {
   "cell_type": "code",
   "execution_count": null,
   "metadata": {},
   "outputs": [],
   "source": [
    "#saving the chosen model for capacity prediction\n",
    "import pickle as pk\n",
    "pk.dump(lr,open('lin_poly_5.pkl','wb'))\n",
    "pk.dump(pr,open('poly_5.pkl','wb'))\n",
    "pk.dump(st,open('Minmaxscaler1_5.pkl','wb'))"
   ]
  },
  {
   "cell_type": "markdown",
   "metadata": {},
   "source": [
    "# Remaining Cycle prediction"
   ]
  },
  {
   "cell_type": "code",
   "execution_count": null,
   "metadata": {},
   "outputs": [],
   "source": [
    "#plotting to see how capacity decreases with cycle with threshold \n",
    "plt.figure(figsize=(10, 6))\n",
    "plt.plot(df['cycle'],df['capacity'],color=\"blue\",label=\"capacity\")\n",
    "plt.plot([0.,max(df[\"cycle\"])], [1.4, 1.4],color=\"red\",label=\"threshold\")\n",
    "plt.xlabel(\"cycle\")\n",
    "plt.legend()\n",
    "plt.ylabel(\"capacity\")\n",
    "plt.title(\"cycle vs capacity with Threshold\")"
   ]
  },
  {
   "cell_type": "code",
   "execution_count": null,
   "metadata": {},
   "outputs": [],
   "source": [
    "#Given End of life criteria-1.4Ahr- determing the cycle number where it has reached the end of life\n",
    "df[df[\"capacity\"]<=1.4000000][\"cycle\"].iloc[0]"
   ]
  },
  {
   "cell_type": "markdown",
   "metadata": {},
   "source": [
    "From above it is seen that the cycles hasn't reached the threshold limit, Hence considering last cycle as the threshold (End of cycle). We estimate the remaining cycle using the formula below <br>\n",
    "<center> <b>\"Cycles Remaining = End of life cycle - current cycle \"</b></center>"
   ]
  },
  {
   "cell_type": "code",
   "execution_count": null,
   "metadata": {},
   "outputs": [],
   "source": [
    "#Estimating Remaining cycle\n",
    "li=[] #list for appending the remaining cycles for each cycle\n",
    "n=125 #Since this is the cycle where the batteries reached end of life\n",
    "for i in range(len(df)):\n",
    "       r=n-df.iloc[i][\"cycle\"]\n",
    "       #if r<0:\n",
    "        #r=0\n",
    "       li.append(r)\n",
    "df[\"rem_cycle\"]=li"
   ]
  },
  {
   "cell_type": "code",
   "execution_count": null,
   "metadata": {},
   "outputs": [],
   "source": [
    "#visualising the dataframe after adding remaining cycles as a cloumn\n",
    "df"
   ]
  },
  {
   "cell_type": "markdown",
   "metadata": {},
   "source": [
    "# Feature selection"
   ]
  },
  {
   "cell_type": "code",
   "execution_count": null,
   "metadata": {},
   "outputs": [],
   "source": [
    "#visualising the columns with the remaining cycles\n",
    "#plotting Capacity vs Remaining cycle\n",
    "plt.figure(figsize=(10,10))\n",
    "plt.subplot(2,2,1)\n",
    "plt.scatter(df[\"capacity\"],df[\"rem_cycle\"],color=\"purple\")\n",
    "plt.xlabel(\"capacity\")\n",
    "plt.ylabel(\"Remaining cycles\")\n",
    "plt.title(\"Capacity vs Remaining cycle\")\n",
    "#plotting charging maximum voltage time vs remaining cycle\n",
    "plt.subplot(2,2,2)\n",
    "plt.scatter(df[\"ch_max_vol_time\"],df[\"rem_cycle\"],color=\"purple\")\n",
    "plt.xlabel(\"Charge maximum voltage time\")\n",
    "plt.ylabel(\"Remaining cycles\")\n",
    "plt.title(\"Charge maximum voltage time vs Remaining cycle\")\n",
    "#plotting Discharge maximum time vs remaining cycle\n",
    "plt.subplot(2,2,3)\n",
    "plt.scatter(df[\"dis_max_time\"],df[\"rem_cycle\"],color=\"purple\")\n",
    "plt.xlabel(\"Discharge maximum time\")\n",
    "plt.ylabel(\"Remaining cycles\")\n",
    "plt.title(\"Discharge maximum time vs Remaining cycle\")\n",
    "#plotting Discharge minimum voltage time vs remaining cycle\n",
    "plt.subplot(2,2,4)\n",
    "plt.scatter(df[\"dis_min_vol_time\"],df[\"rem_cycle\"],color=\"purple\")\n",
    "plt.xlabel(\"Discharge minimum voltage time\")\n",
    "plt.ylabel(\"Remaining cycles\")\n",
    "plt.title(\"Discharge minimum voltage time vs Remaining cycle\")\n",
    "plt.tight_layout()"
   ]
  },
  {
   "cell_type": "markdown",
   "metadata": {},
   "source": [
    "<b> The above graph shows the how the features are related with the Remaining cycles.It is seen that when the cycle increases, all features like capacity,Discharge minimum threshold voltage time,Charge maximum threshold voltage time, discharge maximum time increases and from the above graph we could say that these features have a quite good linear relationship within themselves. Hence these would be some of the good features for predicting the cycle. Before concluding the features to predict capacity, checking the correlation of these features with the capacity below. </b>"
   ]
  },
  {
   "cell_type": "code",
   "execution_count": null,
   "metadata": {},
   "outputs": [],
   "source": [
    "#checking to see correlation between the features\n",
    "plt.figure(figsize=(10,10))\n",
    "sns.heatmap(df.drop(['dis_current','cutoff_voltage',\"capacity_fade\",\"rated_capacity\",\"amb_temperature\"],axis=1).corr(),annot=True,fmt=\".2g\")"
   ]
  },
  {
   "cell_type": "markdown",
   "metadata": {},
   "source": [
    "<b>From the above visualisations and the correlation,we use these following features to estimate the cycles of the battery:\n",
    "    <li><b><u>capacity</b></u> - Inorder to estimate the Remaining cycles definetly capacity would be the most necessary feature because as Also from the above correlation table it is seen that the capacity and the discharge minimum threshold voltage time is highly correlated with the remaining cycle value. But since there exist a high correlation within themselves we choose any one feature from them ie. capacity. </li>\n",
    "    <li> <b><u>charging maximum voltage threshold time</b></u>- Charging takes place in constant current mode until a voltage threshold is reached.charging maximum threshold voltage threshold time is fairly correlated with the cycle. hence we choose these features to predict the cycles.</li>\n",
    "    <li><b><u>discharge maximum time </u> </b>- Generally, Whether the battery is in use or not, the battery will deteriorate with time as cycle increases, due to factors like increased internal resistance. Also it seen that discharge maximum time is also quite correlated with the cycle. hence we choose discharge maximum time as one of the features to estimate the remaining cycles. </li>\n",
    "<b>"
   ]
  },
  {
   "cell_type": "markdown",
   "metadata": {},
   "source": [
    "# Remaining Cycle prediction"
   ]
  },
  {
   "cell_type": "code",
   "execution_count": null,
   "metadata": {},
   "outputs": [],
   "source": [
    "#splitting the input and output features\n",
    "x=df[[\"capacity\",\"ch_max_vol_time\",\"dis_max_time\"]]\n",
    "y=df[\"rem_cycle\"]\n",
    "from sklearn.preprocessing import StandardScaler,MinMaxScaler\n",
    "st=MinMaxScaler(feature_range=(0,1))\n",
    "#scaling using min max scaler\n",
    "x=st.fit_transform(x)\n",
    "pk.dump(st,open('Minmaxscaler2_5.pkl','wb'))\n",
    "#splitting into train data and test data\n",
    "from sklearn.model_selection import train_test_split\n",
    "xt,xs,yt,ys=train_test_split(x,y,test_size=0.2,random_state=1234)\n",
    "#list to store r2 score and rmse of different models for evaluation\n",
    "r21=[]\n",
    "rmse1=[]"
   ]
  },
  {
   "cell_type": "markdown",
   "metadata": {},
   "source": [
    "<b> LINEAR REGRESSION MODEL </B>"
   ]
  },
  {
   "cell_type": "code",
   "execution_count": null,
   "metadata": {},
   "outputs": [],
   "source": [
    "#predicting capacity using linear regression\n",
    "from sklearn.linear_model import LinearRegression\n",
    "l=LinearRegression()\n",
    "l.fit(xt,yt)\n",
    "yp=l.predict(xs)"
   ]
  },
  {
   "cell_type": "code",
   "execution_count": null,
   "metadata": {},
   "outputs": [],
   "source": [
    "#Evaluation of the model-Getting r2 score of the model \n",
    "from sklearn.metrics import r2_score,mean_squared_error\n",
    "from sklearn.metrics import mean_absolute_error\n",
    "print(\"r2 score- Test data\",r2_score(ys,yp))\n",
    "print(\"r2 score- Train data\",l.score(xt,yt))\n",
    "print(\"Root mean square error\",np.sqrt(mean_squared_error(ys,yp)))\n",
    "#appending  to r21 for later evaluation\n",
    "r21.append(r2_score(ys,yp))\n",
    "#plotting the expected vs predicted cycle\n",
    "plt.plot(list(y),label=\"Expected cycle\",color=\"red\")\n",
    "plt.plot(list(l.predict(x)),label=\"predicted cycle\",color=\"blue\")\n",
    "plt.xlabel(\"cycle\")\n",
    "plt.ylabel(\"Remaining cycles\")\n",
    "plt.legend()\n",
    "plt.title(\"Linear regression-Test data vs Predicted\")"
   ]
  },
  {
   "cell_type": "markdown",
   "metadata": {},
   "source": [
    "<B>SUPPORT VECTOR REGRESSION MODEL</B>"
   ]
  },
  {
   "cell_type": "code",
   "execution_count": null,
   "metadata": {},
   "outputs": [],
   "source": [
    "#predicting capacity using SVR\n",
    "from sklearn.svm import SVR\n",
    "s=SVR(C=1000,kernel='rbf',gamma=1)\n",
    "s.fit(xt,yt)\n",
    "yp=s.predict(xs)"
   ]
  },
  {
   "cell_type": "code",
   "execution_count": null,
   "metadata": {},
   "outputs": [],
   "source": [
    "#Evaluation of the model-Getting r2 score of the model \n",
    "from sklearn.metrics import r2_score,mean_squared_error\n",
    "print(\"r2 score- Test data\",r2_score(ys,yp))\n",
    "print(\"train score- Train data\",s.score(xt,yt))\n",
    "print(\"Root mean square error\",np.sqrt(mean_squared_error(ys,yp)))\n",
    "r21.append(r2_score(ys,yp))\n",
    "#plotting the expected vs predicted cycle\n",
    "plt.plot(list(y),label=\"Expected cycle\",color=\"red\")\n",
    "plt.plot(list(s.predict(x)),label=\"Predicted cycle\",color=\"blue\")\n",
    "plt.xlabel(\"cycle\")\n",
    "plt.ylabel(\"Remaining cycles\")\n",
    "plt.title(\"SVR- Test data vs Predicted\")\n",
    "plt.legend()"
   ]
  },
  {
   "cell_type": "markdown",
   "metadata": {},
   "source": [
    "<B>RIDGE REGRESSION MODEL</B>"
   ]
  },
  {
   "cell_type": "code",
   "execution_count": null,
   "metadata": {},
   "outputs": [],
   "source": [
    "#predicting capacity using ridge regression\n",
    "from sklearn.linear_model import Ridge\n",
    "r = Ridge(alpha=0.1)\n",
    "r.fit(xt, yt)\n",
    "yp=r.predict(xs)"
   ]
  },
  {
   "cell_type": "code",
   "execution_count": null,
   "metadata": {},
   "outputs": [],
   "source": [
    "#Evaluation of the model-Getting r2 score of the model \n",
    "print(\"r2 score- Test data\",r2_score(ys,yp))\n",
    "print(\"r2 score- Train data\",r.score(xt,yt))\n",
    "r21.append(r2_score(ys,yp))\n",
    "print(\"Root mean square error\",np.sqrt(mean_squared_error(ys,yp)))\n",
    "#plotting the expected vs predicted cycle\n",
    "plt.plot(list(y),label=\"Expected cycle\",color=\"red\")\n",
    "plt.plot(list(r.predict(x)),label=\"Predicted cycle\",color=\"blue\")\n",
    "plt.xlabel(\"cycle\")\n",
    "plt.ylabel(\"Remaining cycles\")\n",
    "plt.title(\"Ridge regression- Test data vs Predicted\")\n",
    "plt.legend()"
   ]
  },
  {
   "cell_type": "markdown",
   "metadata": {},
   "source": [
    "<B>POLYNOMIAL REGRESSION MODEL</B>"
   ]
  },
  {
   "cell_type": "code",
   "execution_count": null,
   "metadata": {},
   "outputs": [],
   "source": [
    "#predicting capacity using Polynomial regression\n",
    "from sklearn.preprocessing import PolynomialFeatures\n",
    "pr = PolynomialFeatures(degree = 2)\n",
    "xp = pr.fit_transform(xt)\n",
    "lr = LinearRegression()\n",
    "lr.fit(xp, yt)\n",
    "yp=lr.predict(pr.transform(xs))\n",
    "yp1=lr.predict(pr.transform(xt))\n",
    "#Evaluation of the model-Getting r2 score of the model \n",
    "print('r2 score -Train data',r2_score(yt,yp1))\n",
    "print('r2 score -Test data',r2_score(ys,yp))\n",
    "print('Root mean square error',np.sqrt(mean_squared_error(ys,yp)))\n",
    "r21.append(r2_score(ys,yp))\n",
    "#plotting the expected vs predicted cycle\n",
    "plt.plot(list(y),label=\"Expected cycle\",color=\"red\")\n",
    "plt.plot(list(lr.predict(pr.transform(x))),label=\"Predicted cycle\",color=\"blue\")\n",
    "plt.xlabel(\"cycle\")\n",
    "plt.ylabel(\"Remaining cycles\")\n",
    "plt.title(\"Polynomial regression- Test data vs Predicted\")\n",
    "plt.legend()"
   ]
  },
  {
   "cell_type": "markdown",
   "metadata": {},
   "source": [
    "# Model selection for cycle prediction"
   ]
  },
  {
   "cell_type": "code",
   "execution_count": null,
   "metadata": {},
   "outputs": [],
   "source": [
    "#comparing performance of model \n",
    "n=4\n",
    "ind = np.arange(n) \n",
    "width = 0.4\n",
    "# Setting figure size and figure name\n",
    "plt.figure(figsize=(15,5))\n",
    "plt.title(\"Comparing performance of different models\")\n",
    "#plot for r2 score of different models\n",
    "bar1 = plt.bar(ind, r21, width, color = 'b',label=\"r2 score\")\n",
    "plt.ylim(0.92,1)\n",
    "#Iterating to display value on each bar\n",
    "for i, v in enumerate(r21):\n",
    "    plt.text(i-0.06,v+0.001, s=str(v)[:5], color='black', fontweight='bold')\n",
    "#setting names for each bar\n",
    "plt.xticks(ind,[\"linear regression\",\"SVR\",\"Ridge\",\"Polynomial\"])\n",
    "plt.legend(loc=2)\n",
    "plt.show()"
   ]
  },
  {
   "cell_type": "markdown",
   "metadata": {},
   "source": [
    "# CONCLUSION"
   ]
  },
  {
   "cell_type": "markdown",
   "metadata": {},
   "source": [
    "<b>Although the r2 scores of the different models didn't show much of the big difference, It is seen  from the above graph that,  the  R2 score of the support vector regression model performs better than Linear regression, Ridge regression and the polynomial regression models. Also the root mean square error of the support vector regression model is lower compared to the other models. Hence we choose support vector regression model for the prediction of remaining cycles. </b>"
   ]
  },
  {
   "cell_type": "code",
   "execution_count": null,
   "metadata": {},
   "outputs": [],
   "source": [
    "#saving the chosen model for cycle prediction\n",
    "import pickle as pk\n",
    "pk.dump(s,open('svr_5.pkl','wb'))"
   ]
  }
 ],
 "metadata": {
  "kernelspec": {
   "display_name": "Python 3",
   "language": "python",
   "name": "python3"
  },
  "language_info": {
   "codemirror_mode": {
    "name": "ipython",
    "version": 3
   },
   "file_extension": ".py",
   "mimetype": "text/x-python",
   "name": "python",
   "nbconvert_exporter": "python",
   "pygments_lexer": "ipython3",
   "version": "3.7.6"
  }
 },
 "nbformat": 4,
 "nbformat_minor": 4
}
